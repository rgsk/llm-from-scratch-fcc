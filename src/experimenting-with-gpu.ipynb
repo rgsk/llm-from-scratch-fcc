{
 "cells": [
  {
   "cell_type": "code",
   "execution_count": 1,
   "metadata": {},
   "outputs": [],
   "source": [
    "import torch\n",
    "import time\n",
    "import numpy as np"
   ]
  },
  {
   "cell_type": "code",
   "execution_count": 2,
   "metadata": {},
   "outputs": [],
   "source": [
    "device = 'mps' if torch.has_mps else 'cpu'"
   ]
  },
  {
   "cell_type": "code",
   "execution_count": 3,
   "metadata": {},
   "outputs": [
    {
     "data": {
      "text/plain": [
       "'mps'"
      ]
     },
     "execution_count": 3,
     "metadata": {},
     "output_type": "execute_result"
    }
   ],
   "source": [
    "device"
   ]
  },
  {
   "cell_type": "code",
   "execution_count": 4,
   "metadata": {},
   "outputs": [],
   "source": [
    "def experiment(device):\n",
    "\n",
    "    torch_rand1 = torch.rand(10000,10000).to(device)\n",
    "    torch_rand2 = torch.rand(10000,10000).to(device)\n",
    "    np_rand1 = torch.rand(10000,10000)\n",
    "    np_rand2 = torch.rand(10000,10000)\n",
    "\n",
    "    def check():\n",
    "        start_time = time.time()\n",
    "\n",
    "        rand = (torch_rand1 @ torch_rand2)\n",
    "\n",
    "        end_time = time.time()\n",
    "\n",
    "        elapsed_time = end_time - start_time\n",
    "        print(f\"torch matrix multiply - {elapsed_time:.8f}\")\n",
    "\n",
    "\n",
    "        start_time = time.time()\n",
    "\n",
    "        rand = np.multiply(np_rand1, np_rand2)\n",
    "        end_time = time.time()\n",
    "        elapsed_time = end_time - start_time\n",
    "        print(f\"numpy matrix multiply - {elapsed_time:.8f}\")\n",
    "\n",
    "    print('dimensions: 10000,10000')\n",
    "    check()\n",
    "    \n",
    "\n",
    "    torch_rand1 = torch.rand(100, 100, 100, 100).to(device)\n",
    "    torch_rand2 = torch.rand(100, 100, 100, 100).to(device)\n",
    "    np_rand1 = torch.rand(100, 100, 100, 100)\n",
    "    np_rand2 = torch.rand(100, 100, 100, 100)\n",
    "\n",
    "\n",
    "    print('dimensions: 100, 100, 100, 100')\n",
    "    check()"
   ]
  },
  {
   "cell_type": "code",
   "execution_count": 5,
   "metadata": {},
   "outputs": [
    {
     "name": "stdout",
     "output_type": "stream",
     "text": [
      "dimensions: 10000,10000\n",
      "torch matrix multiply - 1.08608222\n",
      "numpy matrix multiply - 0.06834412\n",
      "dimensions: 100, 100, 100, 100\n",
      "torch matrix multiply - 0.14875531\n",
      "numpy matrix multiply - 0.07242608\n"
     ]
    }
   ],
   "source": [
    "experiment('cpu')"
   ]
  },
  {
   "cell_type": "code",
   "execution_count": 6,
   "metadata": {},
   "outputs": [
    {
     "name": "stdout",
     "output_type": "stream",
     "text": [
      "dimensions: 10000,10000\n",
      "torch matrix multiply - 0.07635474\n",
      "numpy matrix multiply - 0.06918097\n",
      "dimensions: 100, 100, 100, 100\n",
      "torch matrix multiply - 0.00272799\n",
      "numpy matrix multiply - 0.07654476\n"
     ]
    }
   ],
   "source": [
    "experiment('mps')"
   ]
  },
  {
   "cell_type": "markdown",
   "metadata": {},
   "source": [
    "## Conclusion\n",
    "\n",
    "GPU out performs CPU in case of multi-dimensional operations, because it can run them in parellel.\n",
    "\n",
    "```\n",
    "dimensions: 100, 100, 100, 100\n",
    "torch matrix multiply - 0.00272799\n",
    "numpy matrix multiply - 0.07654476\n",
    "```"
   ]
  }
 ],
 "metadata": {
  "kernelspec": {
   "display_name": ".venv",
   "language": "python",
   "name": "python3"
  },
  "language_info": {
   "codemirror_mode": {
    "name": "ipython",
    "version": 3
   },
   "file_extension": ".py",
   "mimetype": "text/x-python",
   "name": "python",
   "nbconvert_exporter": "python",
   "pygments_lexer": "ipython3",
   "version": "3.11.3"
  },
  "orig_nbformat": 4
 },
 "nbformat": 4,
 "nbformat_minor": 2
}
